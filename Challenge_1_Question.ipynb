{
 "cells": [
  {
   "cell_type": "code",
   "execution_count": 1,
   "metadata": {},
   "outputs": [
    {
     "name": "stdout",
     "output_type": "stream",
     "text": [
      " Ask Python for the total price of a restaurant bill \n",
      " Then ask how many people were at the dinner \n",
      "Then show how much each person should pay-show the result without decimal\n"
     ]
    }
   ],
   "source": [
    "#Challenge 1 question:\n",
    "\n",
    "\n",
    "\n",
    "print(' Ask Python for the total price of a restaurant bill \\n Then ask how many people were at the dinner \\nThen show how much each person should pay-show the result without decimal')"
   ]
  },
  {
   "cell_type": "code",
   "execution_count": null,
   "metadata": {},
   "outputs": [],
   "source": []
  }
 ],
 "metadata": {
  "kernelspec": {
   "display_name": "Python 3",
   "language": "python",
   "name": "python3"
  },
  "language_info": {
   "codemirror_mode": {
    "name": "ipython",
    "version": 3
   },
   "file_extension": ".py",
   "mimetype": "text/x-python",
   "name": "python",
   "nbconvert_exporter": "python",
   "pygments_lexer": "ipython3",
   "version": "3.6.8"
  }
 },
 "nbformat": 4,
 "nbformat_minor": 2
}
